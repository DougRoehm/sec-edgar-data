{
 "cells": [
  {
   "cell_type": "markdown",
   "metadata": {},
   "source": [
    "# SEC Data Pull"
   ]
  },
  {
   "cell_type": "markdown",
   "metadata": {},
   "source": [
    "Explore the use of the Security Exchange Commissions Edgar API to extract financial data from publicly traded companies."
   ]
  },
  {
   "cell_type": "code",
   "execution_count": null,
   "metadata": {},
   "outputs": [],
   "source": [
    "import pandas as pd\n",
    "import requests\n",
    "from headers import headers"
   ]
  },
  {
   "cell_type": "code",
   "execution_count": null,
   "metadata": {},
   "outputs": [],
   "source": [
    "# List of tickers to pull financial data for\n",
    "tickers = [\"AEE\", \"AEP\", \"AVA\", \"BKH\", \"CMS\", \"CNP\", \"DTE\", \"ETR\", \"EVRG\", \"IDA\", \"LNT\",\n",
    "           \"MGEE\", \"NWE\", \"OGE\", \"POR\", \"WEC\"]"
   ]
  },
  {
   "cell_type": "code",
   "execution_count": null,
   "metadata": {},
   "outputs": [],
   "source": [
    "# Define function to use ticker to pull corresponding cik\n",
    "def cik_matching_ticker(ticker, headers=headers):\n",
    "    link = \"https://www.sec.gov/files/company_tickers.json\"\n",
    "    ticker = ticker.upper().replace(\".\", \"-\")\n",
    "    ticker_json = requests.get(link, headers=headers).json()\n",
    "\n",
    "    for company in ticker_json.values():\n",
    "        if company[\"ticker\"] == ticker:\n",
    "            cik = str(company[\"cik_str\"]).zfill(10)\n",
    "            return cik\n",
    "    raise ValueError(f\"Ticker {ticker} not found in SEC database\")"
   ]
  },
  {
   "cell_type": "code",
   "execution_count": null,
   "metadata": {},
   "outputs": [],
   "source": [
    "# Create dictionary to capture cik values \n",
    "cik_dict = {}"
   ]
  },
  {
   "cell_type": "code",
   "execution_count": null,
   "metadata": {},
   "outputs": [],
   "source": [
    "# Use function to lookup cik that corresponds to each ticker and add to dictionary\n",
    "for ticker in tickers:\n",
    "    cik = cik_matching_ticker(ticker)\n",
    "    print(cik)\n",
    "    cik_dict[ticker] = cik\n",
    "    print(cik_dict)"
   ]
  },
  {
   "cell_type": "code",
   "execution_count": null,
   "metadata": {},
   "outputs": [],
   "source": []
  }
 ],
 "metadata": {
  "language_info": {
   "name": "python"
  }
 },
 "nbformat": 4,
 "nbformat_minor": 2
}
